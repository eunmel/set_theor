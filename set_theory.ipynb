{
 "cells": [
  {
   "cell_type": "markdown",
   "metadata": {},
   "source": [
    "# LISLIE EUNICE MELENCION     BSIS      TTH 1:30-3:00"
   ]
  },
  {
   "cell_type": "markdown",
   "metadata": {},
   "source": [
    "1. A\\B = A $\\cap$ $B^{c}$ \n",
    "\n",
    "If $X \\in A \\setminus B$, then $X \\notin B$ \\\n",
    "\n",
    "If $X \\notin B$, then $X \\in B^\\complement$ \\\n",
    "\n",
    "If $X in B^\\complement$, then $X \\in A \\land X \\in B^\\complement$ \\\n",
    "\n",
    "If $X \\in A \\land X \\in B^\\complement$, then $X \\in A \\cap B^\\complement \n",
    "\n",
    "Therefore, $A$ \\ $B$ = $A \\cap B^\\complement$ \\\n",
    "\n",
    "\n",
    "2. B = (B $\\cap$ A) $\\cup$ (B $\\cap$ $A^{c}$)\n",
    "\n",
    "If $x \\in B$, then $X \\in (B \\cap A) \\vee X \\in (8 \\cap A^\\complement)$ \\\n",
    "\n",
    "If $x \\in (B \\cap A) \\vee X in (8 cap A^c)$, then $X \\in (B \\cap A) cup (B \\cap A^\\complement)$ \\\n",
    "\n",
    "Therefore $B \\subseteq (B \\cap A) \\cup (B \\cap A^c)$. \\\n",
    "\n",
    "Now if $x \\in (B \\cap A) \\cup (B \\cap A^c)$, then $x \\in (B \\cap A) \\vee X \\in (B \\cap A^\\complement)$.\\\n",
    "In either case, $x \\in B$ \\\n",
    "\n",
    "Therefore $(B \\cap A) \\cup (B \\cap A^c) \\subseteq B$ \\\n",
    "\n",
    "Since $B \\subseteq (B \\cap A) \\cup (B \\cap A^c)$ and $(B \\cap A) \\cup (B \\cap A^\\complement) \\subseteq B,$ it follows $B = (B \\cap A) \\cup (B \\cap A^\\complement)$\n",
    "\n",
    "3. B\\A = B $\\cap$ $A^{c}$\n",
    "\n",
    "If $X \\in B \\setminus A$, then $X \\notin A$ \\\n",
    "\n",
    "If $X \\notin A$, then $X \\in A^\\complement$ \\\n",
    "\n",
    "If $X \\in A^\\complement$, then $X \\in B \\wedge X \\in A^\\complement$ \\\n",
    "\n",
    "If $X \\in B \\wedge X \\in A^\\complement$, then $X \\in B \\cap A^\\complement$ \\\n",
    "\n",
    "Therefore, $ B \\setminus A$ = $B \\cap A^\\complement$\n",
    "\n",
    "4. A $\\cup$ B = A $\\cup$ (B $\\cap$ $A^{c}$)\n",
    "\n",
    "If $X \n",
    "\n",
    "5. $(\\textbf{U}_{i=1}^{\\infty} A_{i}^{c})^{c}$ = $\\cap_{i=1}^{\\infty}A_{i}$\n",
    "\n",
    "$(\\cup_{i=1}^\\infty A_i^\\complement)^\\complement$ = $\\cap_i^\\infty A_i^\\complement$ \\\n",
    "\n",
    "Left side: \\\n",
    "Assume $x \\in (\\cup_{i=1}^\\infty A_i^\\complement)^\\complement$. This means $x$ is not in the union of the complements of ($A_1, A_2, A_3, \\ldots$). Therefore, $x$ is not in the complement of any of these sets. In other words, for all $i$, $x \\notin A_i^\\complement$.\n",
    "\n",
    "This implies that $x$ is in the complement of each of the sets $A_i$, i.e., $x \\in A_i^\\complement$ for all $i$. Consequently, $x$ is in the intersection of the complements of the sets $A_1, A_2, A_3, \\ldots$ which is the right side: $\\cap_{i=1}^\\infty A_i^\\complement$.\n",
    "\n",
    "Right side: \\\n",
    "Now, assume an element $y$ is in the RHS (intersection of complements), i.e., $y \\in \\cap_{i=1}^\\infty A_i^\\complement$. This means $y$ is in the complement of each of the sets $A_1, A_2, A_3, \\ldots$. Therefore, $y$ is not in any of these sets, i.e., for all $i$, $y \\notin A_i$.\n",
    "\n",
    "This implies that $y$ is not in the union of these sets' originals, i.e., $y \\notin \\cup_{i=1}^\\infty A_i$. Consequently, $y$ is in the complement of the union of the complements, which is the LHS: $(\\cup_{i=1}^\\infty A_i^\\complement)^\\complement$.\n",
    "\n",
    "Since we have shown that any element from the left is also in the right and vice versa, the left side is equal to the right side. \\\n",
    "Hence, $(\\cup_{i=1}^\\infty A_i^\\complement)^\\complement$ = $\\cap_i^\\infty A_i^\\complement$\n",
    "\n",
    "6. |A $\\cup$ B| = |A| + |B| - |A $\\cap$ B|\n",
    "\n",
    "|$A \\cup B$| = |$A$| + |$B$| - |$A \\cap B$| \\\n",
    "**Claim:** For any two sets $A$ and $B$:\n",
    "$$\n",
    "|A \\cup B| = |A| + |B| - |A \\cap B|\n",
    "$$\n",
    "\n",
    "**Proof:** Let $|X|$ denote the cardinality of set $X$.\n",
    "\n",
    "Consider sets $A$ and $B$.\n",
    "\n",
    "- If $|A|$ denotes the cardinality of set $A$,\n",
    "- And if $|B|$ denotes the cardinality of set $B$,\n",
    "\n",
    "When we form the union of sets $A$ and $B$, denoted by $A \\cup B$, we intuitively expect its size to be the sum of the sizes of $A$ and $B$. That is,\n",
    "$$\n",
    "|A \\cup B| = |A| + |B|\n",
    "$$\n",
    "\n",
    "However, we need to account for the possibility that some elements might be common to both $A$ and $B$, i.e., they belong to their intersection, $A \\cap B$. To avoid counting these elements twice, we need to subtract the size of their intersection from the sum. If $|A \\cap B|$ represents the size of the intersection set,\n",
    "$$\n",
    "|A \\cup B| = |A| + |B| - |A \\cap B|\n",
    "$$\n",
    "\n",
    "This can be expressed as a conditional statement:\n",
    "If we take the union of sets $A$ and $B$, denoted by $A \\cup B$, then the size of this union is equal to the sum of the sizes of $A$ and $B$, minus the size of their intersection, $A \\cap B$."
   ]
  },
  {
   "cell_type": "markdown",
   "metadata": {},
   "source": [
    "##### Latex Solution\n",
    "\n",
    "$\\textbf{A} = {x|x \\in \\mathbb{Z}, 0 \\leq x \\leq 9}$ \\\n",
    "$\\textbf{B} = { 2,4,6,8}, \\ and \\ \\textbf{C} = { 1,3,5,7,9} \\ and \\ \\textbf{D} = { 3,4,5}$\n",
    "\n",
    "Find a set $\\textbf{X}$ which will satisfy the following conditions:\n",
    "1. $\\textbf{X}$ and $\\textbf{B}$ are disjoint.\n",
    "2. $\\textbf{X} \\subseteq \\textbf{D}$ but $\\textbf{X} \\nsubseteq \\textbf{B}$.\n",
    "3. $\\textbf{X} \\subseteq \\textbf{A}$ but $\\textbf{X} \\not\\subset \\textbf{C}$.\n",
    "Answer = $\\textbf{X}$ = {}"
   ]
  },
  {
   "cell_type": "markdown",
   "metadata": {},
   "source": [
    "#### Latex Solution\n",
    "\n",
    "U = {1,2,3,4,5} \\\n",
    "A = {1,2,3,4,5} \\\n",
    "B = {4,5,6,7} \\\n",
    "C = {5,6,7,8,9} \\\n",
    "D = {1,3,5,7,9} \\\n",
    "E = {2,4,6,8} \\\n",
    "F = {1,5,6}\n",
    "\n",
    "Symmetric Difference of C and D \\\n",
    "$C \\oplus D = \\{5,6,7,8,9\\}$ \\ $\\{1,3,5,7,9\\} = \\{1,3,6,8\\}$\n",
    "\n",
    "Set Difference of A and B \\\n",
    "$A - B = \\{1,2,3,4,5\\} - \\{4,5,6,7\\} = \\{1,2,3\\}$\n",
    "\n",
    "Set Difference of B and A \\\n",
    "$B - A = \\{4,5,6,7\\} - \\{1,2,3,4,5\\} = \\{6,7\\}$\n",
    "\n",
    "Symmetric Difference of E and F \\\n",
    "$E \\oplus F = \\{2,4,6,8\\}$ \\ $\\{1,5,6\\} = \\{1,2,4,5,8\\}$"
   ]
  },
  {
   "cell_type": "code",
   "execution_count": 26,
   "metadata": {},
   "outputs": [
    {
     "name": "stdout",
     "output_type": "stream",
     "text": [
      "symmetric difference of C & D {1, 3, 6, 8}\n",
      "set difference of A & B {1, 2, 3}\n",
      "set difference of B & A {6, 7}\n",
      "symmetric difference of E & F {1, 2, 4, 5, 8}\n"
     ]
    }
   ],
   "source": [
    "# 2.  Second, solve the problem using python. Show your codes for the pythonic solutions.\n",
    "U = {1,2,3,4,5}\n",
    "A = {1,2,3,4,5}\n",
    "B = {4,5,6,7,}\n",
    "C = {5,6,7,8,9}\n",
    "D = {1,3,5,7,9}\n",
    "E = {2,4,6,8}\n",
    "F = {1,5,6}\n",
    "#C⊕D\n",
    "#A\\B\n",
    "#B\\A\n",
    "#E⊕F\n",
    "C_symmetric_D = C ^ D\n",
    "print(\"symmetric difference of C & D\", C_symmetric_D)\n",
    "A_difference_B = A - B\n",
    "print(\"set difference of A & B\", A_difference_B)\n",
    "B_difference_A = B - A\n",
    "print(\"set difference of B & A\", B_difference_A)\n",
    "E_symmetric_F = E ^ F\n",
    "print(\"symmetric difference of E & F\", E_symmetric_F)"
   ]
  },
  {
   "cell_type": "code",
   "execution_count": 4,
   "metadata": {},
   "outputs": [
    {
     "name": "stdout",
     "output_type": "stream",
     "text": [
      "Requirement already satisfied: matplotlib in c:\\users\\carla abegail\\appdata\\local\\programs\\python\\python311\\lib\\site-packages (3.7.2)\n",
      "Requirement already satisfied: contourpy>=1.0.1 in c:\\users\\carla abegail\\appdata\\local\\programs\\python\\python311\\lib\\site-packages (from matplotlib) (1.1.0)\n",
      "Requirement already satisfied: cycler>=0.10 in c:\\users\\carla abegail\\appdata\\local\\programs\\python\\python311\\lib\\site-packages (from matplotlib) (0.11.0)\n",
      "Requirement already satisfied: fonttools>=4.22.0 in c:\\users\\carla abegail\\appdata\\local\\programs\\python\\python311\\lib\\site-packages (from matplotlib) (4.42.1)\n",
      "Requirement already satisfied: kiwisolver>=1.0.1 in c:\\users\\carla abegail\\appdata\\local\\programs\\python\\python311\\lib\\site-packages (from matplotlib) (1.4.5)\n",
      "Requirement already satisfied: numpy>=1.20 in c:\\users\\carla abegail\\appdata\\local\\programs\\python\\python311\\lib\\site-packages (from matplotlib) (1.25.2)\n",
      "Requirement already satisfied: packaging>=20.0 in c:\\users\\carla abegail\\appdata\\local\\programs\\python\\python311\\lib\\site-packages (from matplotlib) (23.1)\n",
      "Requirement already satisfied: pillow>=6.2.0 in c:\\users\\carla abegail\\appdata\\local\\programs\\python\\python311\\lib\\site-packages (from matplotlib) (10.0.0)\n",
      "Requirement already satisfied: pyparsing<3.1,>=2.3.1 in c:\\users\\carla abegail\\appdata\\local\\programs\\python\\python311\\lib\\site-packages (from matplotlib) (3.0.9)\n",
      "Requirement already satisfied: python-dateutil>=2.7 in c:\\users\\carla abegail\\appdata\\local\\programs\\python\\python311\\lib\\site-packages (from matplotlib) (2.8.2)\n",
      "Requirement already satisfied: six>=1.5 in c:\\users\\carla abegail\\appdata\\local\\programs\\python\\python311\\lib\\site-packages (from python-dateutil>=2.7->matplotlib) (1.16.0)\n"
     ]
    }
   ],
   "source": [
    "!pip install matplotlib"
   ]
  },
  {
   "cell_type": "code",
   "execution_count": 7,
   "metadata": {},
   "outputs": [
    {
     "data": {
      "image/png": "[encoded data removed]",
      "text/plain": [
       "<Figure size 640x480 with 1 Axes>"
      ]
     },
     "metadata": {},
     "output_type": "display_data"
    },
    {
     "name": "stdout",
     "output_type": "stream",
     "text": [
      "Number of people who read at least one magazine: 100\n",
      "Number of people who read exactly one magazine: 56\n"
     ]
    }
   ],
   "source": [
    "from matplotlib import pyplot as plt\n",
    "from matplotlib_venn import venn3\n",
    "\n",
    "# Data\n",
    "newsweek_readers = 65\n",
    "times_readers = 45\n",
    "fortune_readers = 42\n",
    "newsweek_times_readers = 20\n",
    "newsweek_fortune_readers = 25\n",
    "times_fortune_readers = 15\n",
    "\n",
    "newsweek_only = 65 - (20 + 25 - 8)\n",
    "times_only = 45 - (20 + 15 - 8)\n",
    "fortune_only = 42 - (25 + 15 - 8)\n",
    "newsweek_and_times_only = 20 - 8\n",
    "newsweek_and_fortune_only = 25 - 8\n",
    "times_and_fortune_only = 15 - 8\n",
    "all_three = 8\n",
    "\n",
    "# Create Venn diagram\n",
    "venn3(subsets=(newsweek_only, times_only, newsweek_and_times_only, fortune_only, \n",
    "               newsweek_and_fortune_only, times_and_fortune_only, all_three),\n",
    "                set_labels=('Newsweek', 'Time', 'Fortune'))\n",
    "plt.title(\"Magazine Readers Venn Diagram\")\n",
    "plt.show()\n",
    "\n",
    "# Calculate the number of people who read at least one magazine\n",
    "at_least_one_reader = (newsweek_readers + times_readers + fortune_readers) - \\\n",
    "    (newsweek_times_readers + newsweek_fortune_readers + times_fortune_readers) + all_three\n",
    "\n",
    "# Calculate the number of people who read exactly one magazine\n",
    "exactly_one_reader = (newsweek_only + times_only + fortune_only)\n",
    "\n",
    "print(\"Number of people who read at least one magazine:\", at_least_one_reader)\n",
    "print(\"Number of people who read exactly one magazine:\", exactly_one_reader)"
   ]
  },
  {
   "cell_type": "code",
   "execution_count": 8,
   "metadata": {},
   "outputs": [
    {
     "data": {
      "image/png": "[encoded data removed]",
      "text/plain": [
       "<Figure size 640x480 with 1 Axes>"
      ]
     },
     "metadata": {},
     "output_type": "display_data"
    },
    {
     "name": "stdout",
     "output_type": "stream",
     "text": [
      "Number of cars with only W:  5\n",
      "Number of cars with only A:  4\n",
      "Number of cars with only R:  2\n",
      "Number of cars with both a R and W but no A:  1\n",
      "Number of cars with both an A and R but no W:  6\n",
      "Number of cars with only one of the options:  11\n",
      "Number of cars with at least one of the options:  23\n",
      "Number of cars with none of the options:  2\n"
     ]
    }
   ],
   "source": [
    "from matplotlib_venn import venn3, venn3_circles\n",
    "import matplotlib.pyplot as plt\n",
    "\n",
    "total_cars = 25\n",
    "A = 15\n",
    "R = 12\n",
    "W = 11\n",
    "A_W = 5\n",
    "A_R = 9\n",
    "R_W = 4\n",
    "A_R_W = 3\n",
    "\n",
    "\n",
    "A_only = A - A_W - A_R + A_R_W\n",
    "\n",
    "R_only = R - A_R - R_W + A_R_W\n",
    "\n",
    "W_only = W - A_W - R_W + A_R_W\n",
    "\n",
    "R_W_only = R_W - A_R_W\n",
    "\n",
    "A_R_only = A_R - A_R_W\n",
    "\n",
    "A_W_only = A_W - A_R_W\n",
    "\n",
    "one_of_the_options = A_only + R_only + W_only\n",
    "\n",
    "at_least_one = A + R + W - A_W - A_R - R_W + A_R_W\n",
    "\n",
    "none_of_options = total_cars - at_least_one\n",
    "\n",
    "\n",
    "\n",
    "venn3(subsets=(A_only, R_only, A_R_only, W_only, A_W_only, R_W_only, A_R_W),set_labels=('A', 'R', 'w'))\n",
    "plt.title(\"Venn diagram\")\n",
    "plt.show()\n",
    "\n",
    "print(\"Number of cars with only W: \", W_only)\n",
    "print(\"Number of cars with only A: \", A_only)\n",
    "print(\"Number of cars with only R: \", R_only)\n",
    "print(\"Number of cars with both a R and W but no A: \", R_W_only)\n",
    "print(\"Number of cars with both an A and R but no W: \", A_R_only)\n",
    "print(\"Number of cars with only one of the options: \", one_of_the_options)\n",
    "print(\"Number of cars with at least one of the options: \", at_least_one)\n",
    "print(\"Number of cars with none of the options: \", none_of_options)"
   ]
  }
 ],
 "metadata": {
  "kernelspec": {
   "display_name": "Python 3",
   "language": "python",
   "name": "python3"
  },
  "language_info": {
   "codemirror_mode": {
    "name": "ipython",
    "version": 3
   },
   "file_extension": ".py",
   "mimetype": "text/x-python",
   "name": "python",
   "nbconvert_exporter": "python",
   "pygments_lexer": "ipython3",
   "version": "3.11.5"
  },
  "orig_nbformat": 4
 },
 "nbformat": 4,
 "nbformat_minor": 2
}
